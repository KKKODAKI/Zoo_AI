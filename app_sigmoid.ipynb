{
 "cells": [
  {
   "cell_type": "code",
   "execution_count": 1,
   "metadata": {},
   "outputs": [],
   "source": [
    "# import\n",
    "\n",
    "import pandas as pd\n",
    "import numpy as np\n",
    "import matplotlib.pyplot as plt\n",
    "from matplotlib import colors"
   ]
  },
  {
   "cell_type": "code",
   "execution_count": 2,
   "metadata": {},
   "outputs": [
    {
     "name": "stderr",
     "output_type": "stream",
     "text": [
      "<>:3: SyntaxWarning: invalid escape sequence '\\z'\n",
      "<>:3: SyntaxWarning: invalid escape sequence '\\z'\n",
      "C:\\Users\\Lucas Tiepo\\AppData\\Local\\Temp\\ipykernel_5192\\398892810.py:3: SyntaxWarning: invalid escape sequence '\\z'\n",
      "  data = pd.read_csv('data\\zoo3.csv')\n"
     ]
    }
   ],
   "source": [
    "# get .csv data\n",
    "\n",
    "data = pd.read_csv('data\\zoo3.csv')"
   ]
  },
  {
   "cell_type": "code",
   "execution_count": 3,
   "metadata": {},
   "outputs": [
    {
     "name": "stdout",
     "output_type": "stream",
     "text": [
      "[0.         0.         0.         0.         0.         0.\n",
      " 0.         0.         0.         0.         0.         0.\n",
      " 0.         0.         0.         0.         0.         0.\n",
      " 0.         0.16666667 0.16666667 0.16666667 0.16666667 0.16666667\n",
      " 0.16666667 0.16666667 0.16666667 0.16666667 0.16666667 0.16666667\n",
      " 0.16666667 0.16666667 0.16666667 0.16666667 0.16666667 0.16666667\n",
      " 0.16666667 0.16666667 0.16666667 0.33333333 0.33333333 0.33333333\n",
      " 0.33333333 0.33333333 0.33333333 0.33333333 0.33333333 0.5\n",
      " 0.5        0.5        0.5        0.5        0.5        0.5\n",
      " 0.5        0.66666667 0.66666667 0.66666667 0.66666667 0.66666667\n",
      " 0.66666667 0.83333333 0.83333333 0.83333333 0.83333333 0.83333333\n",
      " 1.         1.         1.         1.        ]\n"
     ]
    }
   ],
   "source": [
    "# config \n",
    "numEpocas = 500            # Número de épocas.\n",
    "q = 70                      # Número de padrões.\n",
    "taxaDeAprendizado = 0.01    # Taxa de aprendizado\n",
    "neuroniosEntrada = 16       # Número de neurônios na camada de entrada\n",
    "neuroniosCamada2 = 32       # Número de neurônios na primeira camada escondida\n",
    "neuroniosCamada3 = 16       # Número de neurônios na segunda camada escondida\n",
    "neuroniosCamada4 = 8        # Número de neurônios na segunda camada escondida\n",
    "NeuroniosSaida = 1          # Número de neurônios na camada de saída (1-Mamífero, 2-Ave, 3-Réptil, 4-Peixe, 5-anfíbeio, 6-inseto, 7-crustáceo)\n",
    "\n",
    "# Carrega os dados de treinamento\n",
    "pelo = np.array(data['hair'])\n",
    "penas = np.array(data['feathers'])\n",
    "ovos = np.array(data['eggs'])\n",
    "leite = np.array(data['milk'])\n",
    "ossosLeves = np.array(data['airborne'])\n",
    "aquatico = np.array(data['aquatic'])\n",
    "predador = np.array(data['predator'])\n",
    "dentes = np.array(data['toothed'])\n",
    "colunaVertebral = np.array(data['backbone'])\n",
    "respira = np.array(data['breathes'])\n",
    "venenoso = np.array(data['venomous'])\n",
    "barbatanas = np.array(data['fins'])\n",
    "pernas = np.array(data['legs'])\n",
    "rabo = np.array(data['tail'])\n",
    "domestico = np.array(data['domestic'])\n",
    "catsize = np.array(data['catsize'])\n",
    "\n",
    "# Classificação\n",
    "#d = np.array(data['class_type'], dtype=float)\n",
    "d = (np.array(data['class_type'], dtype=float) - 1) / 6\n",
    "print(d)\n"
   ]
  },
  {
   "cell_type": "code",
   "execution_count": 4,
   "metadata": {},
   "outputs": [],
   "source": [
    "# Inicia aleatoriamente as matrizes de pesos.\n",
    "# Inicializando com m, N e L nos dá a liberdade de diferentes arquiteturas (só alterando as linhas 17,18 e 19)\n",
    "# Inicia aleatoriamente as matrizes de pesos.\n",
    "W1 = np.random.random((neuroniosCamada2, neuroniosEntrada + 1)) #dimensões da Matriz de entrada\n",
    "W2 = np.random.random((neuroniosCamada3, neuroniosCamada2 + 1)) #dimensões da Matriz de saída\n",
    "W3 = np.random.random((neuroniosCamada4, neuroniosCamada3 + 1)) #dimensões da Matriz de saída\n",
    "W4 = np.random.random((NeuroniosSaida, neuroniosCamada4 + 1))   #dimensões da Matriz de saída\n",
    "\n",
    "# Array para amazernar os erros.\n",
    "E = np.zeros(q)\n",
    "Etm = np.zeros(numEpocas) #Etm = Erro total médio ==> serve para acompanharmos a evolução do treinamento da rede\n",
    "\n",
    "# bias\n",
    "bias = 1\n",
    "\n",
    "# Entrada do Perceptron.\n",
    "X = np.vstack((pelo, penas, ovos, \n",
    "               leite, ossosLeves, aquatico, \n",
    "               predador, dentes, colunaVertebral, \n",
    "               respira, venenoso, barbatanas, pernas, \n",
    "               rabo, domestico, catsize))  "
   ]
  },
  {
   "cell_type": "code",
   "execution_count": 5,
   "metadata": {},
   "outputs": [
    {
     "data": {
      "image/png": "[encoded data removed]",
      "text/plain": [
       "<Figure size 640x480 with 1 Axes>"
      ]
     },
     "metadata": {},
     "output_type": "display_data"
    }
   ],
   "source": [
    "# ===============================================================\n",
    "# TREINAMENTO.\n",
    "# ===============================================================\n",
    "\n",
    "def sigmoid(x):\n",
    "    return 1 / (1 + np.exp(-x))\n",
    "\n",
    "for i in range(numEpocas):\n",
    "    for j in range(q):\n",
    "        # Insere o bias no vetor de entrada\n",
    "        Xb = np.hstack((bias, X[:, j]))\n",
    "\n",
    "        # Saída da primeira camada escondida\n",
    "        o1 = sigmoid(W1.dot(Xb))\n",
    "        o1b = np.insert(o1, 0, bias)\n",
    "       \n",
    "        # Saída da segunda camada escondida\n",
    "        o2 = sigmoid(W2.dot(o1b))\n",
    "        o2b = np.insert(o2, 0, bias)\n",
    "\n",
    "        # Saída da terceira camada escondida\n",
    "        o3 = sigmoid(W3.dot(o2b))\n",
    "        o3b = np.insert(o3, 0, bias)\n",
    "        \n",
    "        # Saída da camada de saída\n",
    "        Y = sigmoid(W4.dot(o3b))\n",
    "\n",
    "        # Erro\n",
    "        e = d[j] - Y\n",
    "\n",
    "        # Erro Total\n",
    "        E[j] = (e.transpose().dot(e)) / 2\n",
    "\n",
    "        # Retropropagação do erro\n",
    "        delta4 = np.diag(e).dot((1 - Y * Y))\n",
    "        vdelta4 = (W4.transpose()).dot(delta4)\n",
    "        delta3 = np.diag(1 - o3b * o3b).dot(vdelta4)\n",
    "        vdelta3 = (W3.transpose()).dot(delta3[1:])\n",
    "        delta2 = np.diag(1 - o2b[1:] * o2b[1:]).dot(vdelta3[1:])\n",
    "        vdelta2 = (W2.transpose()).dot(delta2)\n",
    "        delta1 = np.diag(1 - o1b[1:] * o1b[1:]).dot(vdelta2[1:])\n",
    "\n",
    "        # Atualização dos pesos\n",
    "        W1 = W1 + taxaDeAprendizado * (np.outer(delta1, Xb))\n",
    "        W2 = W2 + taxaDeAprendizado * (np.outer(delta2, o1b))\n",
    "        W3 = W3 + taxaDeAprendizado * (np.outer(delta3[1:], o2b))\n",
    "        W4 = W4 + taxaDeAprendizado * (np.outer(delta4, o3b))\n",
    "\n",
    "    # Calculo da média dos erros\n",
    "    Etm[i] = E.mean()\n",
    "\n",
    "plt.xlabel(\"Épocas\")\n",
    "plt.ylabel(\"Erro Médio\")\n",
    "plt.plot(Etm, color='c')\n",
    "plt.plot(Etm)\n",
    "plt.show()"
   ]
  },
  {
   "cell_type": "code",
   "execution_count": 7,
   "metadata": {},
   "outputs": [
    {
     "name": "stdout",
     "output_type": "stream",
     "text": [
      "[0. 0. 0. 0. 0. 0. 0. 0. 0. 0. 0. 0. 0. 0. 0. 0. 0. 0. 0. 0. 0. 0. 0. 0.\n",
      " 0. 0. 0. 0. 0. 0. 0. 0. 0. 0. 0. 0. 0. 0. 0. 0. 0. 0. 0. 0. 0. 0. 0. 0.\n",
      " 0. 0. 0. 0. 0. 0. 0. 0. 0. 0. 0. 0. 0. 0. 0. 0. 0. 0. 0. 0. 0. 0.]\n"
     ]
    },
    {
     "name": "stderr",
     "output_type": "stream",
     "text": [
      "C:\\Users\\Lucas Tiepo\\AppData\\Local\\Temp\\ipykernel_5192\\2402573139.py:26: DeprecationWarning: Conversion of an array with ndim > 0 to a scalar is deprecated, and will error in future. Ensure you extract a single element from your array before performing this operation. (Deprecated NumPy 1.25.)\n",
      "  Error_Test[i] = d[i] - (Y)\n"
     ]
    }
   ],
   "source": [
    "# ===============================================================\n",
    "# TESTE DA REDE.\n",
    "# ===============================================================\n",
    "\n",
    "Error_Test = np.zeros(q)\n",
    "\n",
    "for i in range(q):\n",
    "    # Insere o bias no vetor de entrada.\n",
    "    Xb = np.hstack((bias, X[:,i]))\n",
    "\n",
    "    # Saída da primeira camada escondida\n",
    "    o1 = sigmoid(W1.dot(Xb))\n",
    "    o1b = np.insert(o1, 0, bias)\n",
    "\n",
    "    # Saída da segunda camada escondida\n",
    "    o2 = sigmoid(W2.dot(o1b))\n",
    "    o2b = np.insert(o2, 0, bias)\n",
    "\n",
    "    # Saída da terceira camada escondida\n",
    "    o3 = sigmoid(W3.dot(o2b))\n",
    "    o3b = np.insert(o3, 0, bias)\n",
    "\n",
    "    # Saída da camada de saída\n",
    "    Y = sigmoid(W4.dot(o3b))\n",
    "\n",
    "    Error_Test[i] = d[i] - (Y)\n",
    "\n",
    "print(np.abs(np.round((Error_Test) - d))) #aqui se ela acertou todas o vetor tem que estar zerado\n"
   ]
  }
 ],
 "metadata": {
  "kernelspec": {
   "display_name": "Python 3",
   "language": "python",
   "name": "python3"
  },
  "language_info": {
   "codemirror_mode": {
    "name": "ipython",
    "version": 3
   },
   "file_extension": ".py",
   "mimetype": "text/x-python",
   "name": "python",
   "nbconvert_exporter": "python",
   "pygments_lexer": "ipython3",
   "version": "3.13.0"
  }
 },
 "nbformat": 4,
 "nbformat_minor": 2
}
